{
  "nbformat": 4,
  "nbformat_minor": 0,
  "metadata": {
    "colab": {
      "name": "Moringa_Data_Science_Prep_W1_Independent_Project_2022_01_Peter_Otieno_Python_Notebook",
      "provenance": [],
      "collapsed_sections": []
    },
    "kernelspec": {
      "name": "python3",
      "display_name": "Python 3"
    },
    "language_info": {
      "name": "python"
    }
  },
  "cells": [
    {
      "cell_type": "code",
      "execution_count": null,
      "metadata": {
        "id": "Wj_lsjghgGRQ"
      },
      "outputs": [],
      "source": [
        "pounds=float(input('Enter the weight in pounds to convert into kgs:'))\n",
        "kilo_grams = pounds* 0.453592\n",
        "print(pounds, 'pounds (lbs) is equal to', kilo_grams, 'Kilograms (Kgs)')"
      ]
    },
    {
      "cell_type": "code",
      "source": [
        "a=input(\"Enter a number\")\n",
        "b=input(\"Enter another number\")\n",
        "print(\"Sum of numbers entered by user\")\n",
        "sum=a+b\n",
        "print(sum)"
      ],
      "metadata": {
        "id": "j2gfmi225qN3"
      },
      "execution_count": null,
      "outputs": []
    },
    {
      "cell_type": "code",
      "source": [
        "num1 =float(input('Enter first number:'))\n",
        "num2 = float(input('Enter second number:'))\n",
        "avg =(num1+num2)/2\n",
        "print('The average of numbers =%0.2f' %avg)"
      ],
      "metadata": {
        "id": "vgH5cRT77QuX"
      },
      "execution_count": null,
      "outputs": []
    },
    {
      "cell_type": "code",
      "source": [
        "num1=float(input('Enter first number:'))\n",
        "num2=float(input('Enter second number:'))\n",
        "num1 is > num 2)\n",
        "if num1 > num2:\n",
        "   diff = num1 - num2\n",
        "   num1 is < num2\n",
        "else:\n",
        "   diff = num2 - num1\n",
        "   print('The difference between numbers = %0.2f'%diff)  \n"
      ],
      "metadata": {
        "id": "zCMce3pn-C1R"
      },
      "execution_count": null,
      "outputs": []
    },
    {
      "cell_type": "code",
      "source": [
        "dividend=int(input(\"Enter the dividend:\"))\n",
        "divisor=int(input(\"Enter the divisor:\"))\n",
        "quotient=dividend//divisor;\n",
        "remainder=dividend&divisor;\n",
        "print(\"Quotient is:\", quotient)\n",
        "print(\"remainder is:\",remainder)"
      ],
      "metadata": {
        "id": "6NIKoYDXC07T"
      },
      "execution_count": null,
      "outputs": []
    },
    {
      "cell_type": "code",
      "source": [
        "num=int(input(\"Enter any number:\"))\n",
        "flag=num%2\n",
        "if flag == 0:\n",
        "   print(num,\"is an even number\")\n",
        "   elif flag == 1:\n",
        "        print(num,\"is an add number\")\n",
        "else\n",
        "    print(\"Error,Invalid input\")"
      ],
      "metadata": {
        "id": "5D_te5eyFPAj"
      },
      "execution_count": null,
      "outputs": []
    }
  ]
}