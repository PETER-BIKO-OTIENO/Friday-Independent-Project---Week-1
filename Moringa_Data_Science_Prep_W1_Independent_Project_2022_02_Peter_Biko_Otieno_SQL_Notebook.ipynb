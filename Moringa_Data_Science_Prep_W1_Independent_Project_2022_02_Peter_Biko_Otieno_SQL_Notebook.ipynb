{
  "nbformat": 4,
  "nbformat_minor": 0,
  "metadata": {
    "colab": {
      "name": "Moringa_Data_Science_Prep_W1_Independent_Project_2022_02_Peter_Biko_Otieno_SQL_Notebook.ipynb",
      "provenance": [],
      "collapsed_sections": []
    },
    "kernelspec": {
      "name": "python3",
      "display_name": "Python 3"
    },
    "language_info": {
      "name": "python"
    }
  },
  "cells": [
    {
      "cell_type": "markdown",
      "source": [
        "In this section, you will act as a Data Science Consultant who will answer questions posed using a dataset collected by Dalberg. The dataset contains crops grown in Uganda."
      ],
      "metadata": {
        "id": "YubWb82m12ni"
      }
    },
    {
      "cell_type": "code",
      "execution_count": null,
      "metadata": {
        "colab": {
          "base_uri": "https://localhost:8080/",
          "height": 35
        },
        "id": "AB_Dq0vptJ1R",
        "outputId": "2445982e-9648-43d3-f21c-98ffa7439916"
      },
      "outputs": [
        {
          "output_type": "execute_result",
          "data": {
            "application/vnd.google.colaboratory.intrinsic+json": {
              "type": "string"
            },
            "text/plain": [
              "'Connected: @None'"
            ]
          },
          "metadata": {},
          "execution_count": 1
        }
      ],
      "source": [
        "# loading the sql extention into our environment\n",
        "\n",
        "%load_ext sql\n",
        "\n",
        "# connect to our sqlite database memory\n",
        "\n",
        "%sql sqlite://\n",
        "  \n",
        "# I am acting as a Data science consultant \n",
        "# using the dataset collected by Dalberg.\n",
        "# the dataset has data on crops grown in Uganda."
      ]
    },
    {
      "cell_type": "code",
      "source": [
        "# importing the csv libraries in python\n",
        "import csv"
      ],
      "metadata": {
        "id": "qz-aMhS5uILb"
      },
      "execution_count": null,
      "outputs": []
    },
    {
      "cell_type": "code",
      "source": [
        "# For manipulation I will import pandas library\n",
        "import pandas as pd"
      ],
      "metadata": {
        "id": "dFnWXWkEuWkf"
      },
      "execution_count": null,
      "outputs": []
    },
    {
      "cell_type": "code",
      "source": [
        "# upload file\n",
        "\n",
        "with open('Uganda_Karamoja_Subcounty_Crop_Yield_Population.csv', 'r') as f:\n",
        "  Uganda_Karamoja_Subcounty_Crop_Yield_Population = pd.read_csv(f, index_col = 0, encoding= 'utf-8')"
      ],
      "metadata": {
        "id": "7j2_JwXIutkA"
      },
      "execution_count": null,
      "outputs": []
    },
    {
      "cell_type": "code",
      "source": [
        "# drop the existing table similar to the one in the current sqlite environment\n",
        "\n",
        "%sql DROP TABLE if EXISTS Uganda_Karamoja_Subcounty_Crop_Yield_Population;\n",
        "%sql PERSIST Uganda_Karamoja_Subcounty_Crop_Yield_Population;"
      ],
      "metadata": {
        "colab": {
          "base_uri": "https://localhost:8080/",
          "height": 87
        },
        "id": "xj-PRdflvJN5",
        "outputId": "52a0b609-5a62-4dc2-88b1-be1e5ba0deaa"
      },
      "execution_count": null,
      "outputs": [
        {
          "output_type": "stream",
          "name": "stdout",
          "text": [
            " * sqlite://\n",
            "Done.\n",
            " * sqlite://\n"
          ]
        },
        {
          "output_type": "execute_result",
          "data": {
            "application/vnd.google.colaboratory.intrinsic+json": {
              "type": "string"
            },
            "text/plain": [
              "'Persisted uganda_karamoja_subcounty_crop_yield_population'"
            ]
          },
          "metadata": {},
          "execution_count": 6
        }
      ]
    },
    {
      "cell_type": "code",
      "source": [
        "# preview the table limit 6\n",
        "%%sql\n",
        "SELECT * FROM Uganda_Karamoja_Subcounty_Crop_Yield_Population limit 6"
      ],
      "metadata": {
        "colab": {
          "base_uri": "https://localhost:8080/",
          "height": 203
        },
        "id": "VK5_BNlqvi3t",
        "outputId": "ab240304-a3cf-4032-b91b-c22e6f38a0d4"
      },
      "execution_count": null,
      "outputs": [
        {
          "output_type": "stream",
          "name": "stdout",
          "text": [
            " * sqlite://\n",
            "Done.\n"
          ]
        },
        {
          "output_type": "execute_result",
          "data": {
            "text/html": [
              "<table>\n",
              "    <thead>\n",
              "        <tr>\n",
              "            <th>OBJECTID</th>\n",
              "            <th>SUBCOUNTY_NAME</th>\n",
              "            <th>DISTRICT_NAME</th>\n",
              "            <th>POP</th>\n",
              "            <th>Area</th>\n",
              "            <th>Karamoja</th>\n",
              "            <th>S_Yield_Ha</th>\n",
              "            <th>M_Yield_Ha</th>\n",
              "            <th>Crop_Area_Ha</th>\n",
              "            <th>S_Area_Ha</th>\n",
              "            <th>M_Area_Ha</th>\n",
              "            <th>S_Prod_Tot</th>\n",
              "            <th>M_Prod_Tot</th>\n",
              "        </tr>\n",
              "    </thead>\n",
              "    <tbody>\n",
              "        <tr>\n",
              "            <td>263</td>\n",
              "            <td>KACHERI</td>\n",
              "            <td>KOTIDO</td>\n",
              "            <td>17244</td>\n",
              "            <td>1067176155</td>\n",
              "            <td>Y</td>\n",
              "            <td>354.2074107</td>\n",
              "            <td>1137.467019</td>\n",
              "            <td>7023.533691</td>\n",
              "            <td>6434.342449</td>\n",
              "            <td>528.1242294</td>\n",
              "            <td>2279091.779</td>\n",
              "            <td>600723.8929</td>\n",
              "        </tr>\n",
              "        <tr>\n",
              "            <td>264</td>\n",
              "            <td>KOTIDO</td>\n",
              "            <td>KOTIDO</td>\n",
              "            <td>52771</td>\n",
              "            <td>597575188</td>\n",
              "            <td>Y</td>\n",
              "            <td>367.8905232</td>\n",
              "            <td>1162.996687</td>\n",
              "            <td>13587.99076</td>\n",
              "            <td>12455.59264</td>\n",
              "            <td>824.7670809</td>\n",
              "            <td>4582294.492</td>\n",
              "            <td>959201.3825</td>\n",
              "        </tr>\n",
              "        <tr>\n",
              "            <td>265</td>\n",
              "            <td>KOTIDO TOWN COUNCIL</td>\n",
              "            <td>KOTIDO</td>\n",
              "            <td>27389</td>\n",
              "            <td>23972401</td>\n",
              "            <td>Y</td>\n",
              "            <td>369.3141771</td>\n",
              "            <td>1167.005832</td>\n",
              "            <td>1656.531855</td>\n",
              "            <td>1520.322052</td>\n",
              "            <td>8.561643817</td>\n",
              "            <td>561476.4874</td>\n",
              "            <td>9991.488268</td>\n",
              "        </tr>\n",
              "        <tr>\n",
              "            <td>266</td>\n",
              "            <td>NAKAPERIMORU</td>\n",
              "            <td>KOTIDO</td>\n",
              "            <td>38775</td>\n",
              "            <td>419111591</td>\n",
              "            <td>Y</td>\n",
              "            <td>283.3245689</td>\n",
              "            <td>852.3665784</td>\n",
              "            <td>7087.823334</td>\n",
              "            <td>6761.488901</td>\n",
              "            <td>45.72171184</td>\n",
              "            <td>1915695.928</td>\n",
              "            <td>38971.65908</td>\n",
              "        </tr>\n",
              "        <tr>\n",
              "            <td>267</td>\n",
              "            <td>PANYANGARA</td>\n",
              "            <td>KOTIDO</td>\n",
              "            <td>65704</td>\n",
              "            <td>880955930</td>\n",
              "            <td>Y</td>\n",
              "            <td>373.8369255</td>\n",
              "            <td>1283.859882</td>\n",
              "            <td>10398.24939</td>\n",
              "            <td>10111.19813</td>\n",
              "            <td>172.6119139</td>\n",
              "            <td>3779939.224</td>\n",
              "            <td>221609.5114</td>\n",
              "        </tr>\n",
              "        <tr>\n",
              "            <td>268</td>\n",
              "            <td>RENGEN</td>\n",
              "            <td>KOTIDO</td>\n",
              "            <td>41273</td>\n",
              "            <td>652744859</td>\n",
              "            <td>Y</td>\n",
              "            <td>271.1858431</td>\n",
              "            <td>1047.180128</td>\n",
              "            <td>13278.52043</td>\n",
              "            <td>12964.49973</td>\n",
              "            <td>171.5857036</td>\n",
              "            <td>3515788.789</td>\n",
              "            <td>179681.139</td>\n",
              "        </tr>\n",
              "    </tbody>\n",
              "</table>"
            ],
            "text/plain": [
              "[(263, 'KACHERI', 'KOTIDO', 17244, 1067176155, 'Y', 354.2074107, 1137.467019, 7023.533691, 6434.342449, 528.1242294, 2279091.779, 600723.8929),\n",
              " (264, 'KOTIDO', 'KOTIDO', 52771, 597575188, 'Y', 367.8905232, 1162.996687, 13587.99076, 12455.59264, 824.7670809, 4582294.492, 959201.3825),\n",
              " (265, 'KOTIDO TOWN COUNCIL', 'KOTIDO', 27389, 23972401, 'Y', 369.3141771, 1167.005832, 1656.531855, 1520.322052, 8.561643817, 561476.4874, 9991.488268),\n",
              " (266, 'NAKAPERIMORU', 'KOTIDO', 38775, 419111591, 'Y', 283.3245689, 852.3665784, 7087.823334, 6761.488901, 45.72171184, 1915695.928, 38971.65908),\n",
              " (267, 'PANYANGARA', 'KOTIDO', 65704, 880955930, 'Y', 373.8369255, 1283.859882, 10398.24939, 10111.19813, 172.6119139, 3779939.224, 221609.5114),\n",
              " (268, 'RENGEN', 'KOTIDO', 41273, 652744859, 'Y', 271.1858431, 1047.180128, 13278.52043, 12964.49973, 171.5857036, 3515788.789, 179681.139)]"
            ]
          },
          "metadata": {},
          "execution_count": 7
        }
      ]
    },
    {
      "cell_type": "code",
      "source": [
        "# Question: Display a list of Sub Counties and their population and areas\n",
        "\n",
        "%%sql\n",
        "SELECT SUBCOUNTY_NAME, POP, Area from Uganda_Karamoja_Subcounty_Crop_Yield_Population limit 4"
      ],
      "metadata": {
        "colab": {
          "base_uri": "https://localhost:8080/",
          "height": 161
        },
        "id": "YH_gwOGkvxaw",
        "outputId": "43fa21b8-627a-4020-abdf-198cc2624a45"
      },
      "execution_count": null,
      "outputs": [
        {
          "output_type": "stream",
          "name": "stdout",
          "text": [
            " * sqlite://\n",
            "Done.\n"
          ]
        },
        {
          "output_type": "execute_result",
          "data": {
            "text/html": [
              "<table>\n",
              "    <thead>\n",
              "        <tr>\n",
              "            <th>SUBCOUNTY_NAME</th>\n",
              "            <th>POP</th>\n",
              "            <th>Area</th>\n",
              "        </tr>\n",
              "    </thead>\n",
              "    <tbody>\n",
              "        <tr>\n",
              "            <td>KACHERI</td>\n",
              "            <td>17244</td>\n",
              "            <td>1067176155</td>\n",
              "        </tr>\n",
              "        <tr>\n",
              "            <td>KOTIDO</td>\n",
              "            <td>52771</td>\n",
              "            <td>597575188</td>\n",
              "        </tr>\n",
              "        <tr>\n",
              "            <td>KOTIDO TOWN COUNCIL</td>\n",
              "            <td>27389</td>\n",
              "            <td>23972401</td>\n",
              "        </tr>\n",
              "        <tr>\n",
              "            <td>NAKAPERIMORU</td>\n",
              "            <td>38775</td>\n",
              "            <td>419111591</td>\n",
              "        </tr>\n",
              "    </tbody>\n",
              "</table>"
            ],
            "text/plain": [
              "[('KACHERI', 17244, 1067176155),\n",
              " ('KOTIDO', 52771, 597575188),\n",
              " ('KOTIDO TOWN COUNCIL', 27389, 23972401),\n",
              " ('NAKAPERIMORU', 38775, 419111591)]"
            ]
          },
          "metadata": {},
          "execution_count": 16
        }
      ]
    },
    {
      "cell_type": "code",
      "source": [
        "# Question: Sort the list of districts by total crop area (descending order)\n",
        "# limit 10 entries \n",
        "%%sql\n",
        "SELECT DISTRICT_NAME from Uganda_Karamoja_Subcounty_Crop_Yield_Population\n",
        "ORDER BY Crop_Area_Ha\tDESC limit 10"
      ],
      "metadata": {
        "colab": {
          "base_uri": "https://localhost:8080/",
          "height": 289
        },
        "id": "ovM85NrEwCbQ",
        "outputId": "7cd97514-5331-4fc3-a0a6-25a16744ae70"
      },
      "execution_count": null,
      "outputs": [
        {
          "output_type": "stream",
          "name": "stdout",
          "text": [
            " * sqlite://\n",
            "Done.\n"
          ]
        },
        {
          "output_type": "execute_result",
          "data": {
            "text/html": [
              "<table>\n",
              "    <thead>\n",
              "        <tr>\n",
              "            <th>DISTRICT_NAME</th>\n",
              "        </tr>\n",
              "    </thead>\n",
              "    <tbody>\n",
              "        <tr>\n",
              "            <td>KOTIDO</td>\n",
              "        </tr>\n",
              "        <tr>\n",
              "            <td>KOTIDO</td>\n",
              "        </tr>\n",
              "        <tr>\n",
              "            <td>KOTIDO</td>\n",
              "        </tr>\n",
              "        <tr>\n",
              "            <td>KOTIDO</td>\n",
              "        </tr>\n",
              "        <tr>\n",
              "            <td>KOTIDO</td>\n",
              "        </tr>\n",
              "        <tr>\n",
              "            <td>KAABONG</td>\n",
              "        </tr>\n",
              "        <tr>\n",
              "            <td>NAPAK</td>\n",
              "        </tr>\n",
              "        <tr>\n",
              "            <td>NAKAPIRIPIRIT</td>\n",
              "        </tr>\n",
              "        <tr>\n",
              "            <td>NAKAPIRIPIRIT</td>\n",
              "        </tr>\n",
              "        <tr>\n",
              "            <td>NAPAK</td>\n",
              "        </tr>\n",
              "    </tbody>\n",
              "</table>"
            ],
            "text/plain": [
              "[('KOTIDO',),\n",
              " ('KOTIDO',),\n",
              " ('KOTIDO',),\n",
              " ('KOTIDO',),\n",
              " ('KOTIDO',),\n",
              " ('KAABONG',),\n",
              " ('NAPAK',),\n",
              " ('NAKAPIRIPIRIT',),\n",
              " ('NAKAPIRIPIRIT',),\n",
              " ('NAPAK',)]"
            ]
          },
          "metadata": {},
          "execution_count": 15
        }
      ]
    },
    {
      "cell_type": "code",
      "source": [
        "# Question: Select only the Sub counties from the Moroto district, order them alphabetically and show their production of sorghum\n",
        "\n",
        "%%sql\n",
        "SELECT SUBCOUNTY_NAME, S_Prod_Tot\tfrom Uganda_Karamoja_Subcounty_Crop_Yield_Population\n",
        "WHERE DISTRICT_NAME = \"MOROTO\" \n",
        "ORDER BY SUBCOUNTY_NAME ASC"
      ],
      "metadata": {
        "colab": {
          "base_uri": "https://localhost:8080/",
          "height": 203
        },
        "id": "fcZkjnXwwX2V",
        "outputId": "d519950f-e20f-46a2-8ea9-cdd6b28308f1"
      },
      "execution_count": null,
      "outputs": [
        {
          "output_type": "stream",
          "name": "stdout",
          "text": [
            " * sqlite://\n",
            "Done.\n"
          ]
        },
        {
          "output_type": "execute_result",
          "data": {
            "text/html": [
              "<table>\n",
              "    <thead>\n",
              "        <tr>\n",
              "            <th>SUBCOUNTY_NAME</th>\n",
              "            <th>S_Prod_Tot</th>\n",
              "        </tr>\n",
              "    </thead>\n",
              "    <tbody>\n",
              "        <tr>\n",
              "            <td>KATIKEKILE</td>\n",
              "            <td>9379.029413</td>\n",
              "        </tr>\n",
              "        <tr>\n",
              "            <td>NADUNGET</td>\n",
              "            <td>321630.539</td>\n",
              "        </tr>\n",
              "        <tr>\n",
              "            <td>NORTHERN DIVISION</td>\n",
              "            <td>17.28125956</td>\n",
              "        </tr>\n",
              "        <tr>\n",
              "            <td>RUPA</td>\n",
              "            <td>227298.5184</td>\n",
              "        </tr>\n",
              "        <tr>\n",
              "            <td>SOUTHERN DIVISION</td>\n",
              "            <td>19.67486547</td>\n",
              "        </tr>\n",
              "        <tr>\n",
              "            <td>TAPAC</td>\n",
              "            <td>49251.66081</td>\n",
              "        </tr>\n",
              "    </tbody>\n",
              "</table>"
            ],
            "text/plain": [
              "[('KATIKEKILE', 9379.029413),\n",
              " ('NADUNGET', 321630.539),\n",
              " ('NORTHERN DIVISION', 17.28125956),\n",
              " ('RUPA', 227298.5184),\n",
              " ('SOUTHERN DIVISION', 19.67486547),\n",
              " ('TAPAC', 49251.66081)]"
            ]
          },
          "metadata": {},
          "execution_count": 14
        }
      ]
    },
    {
      "cell_type": "code",
      "source": [
        "# Question: Compute the total Maize production per District\n",
        "\n",
        "# limit 7\n",
        "\n",
        "%%sql\n",
        "SELECT DISTRICT_NAME, SUM(M_Prod_Tot) FROM Uganda_Karamoja_Subcounty_Crop_Yield_Population\n",
        "GROUP BY DISTRICT_NAME"
      ],
      "metadata": {
        "colab": {
          "base_uri": "https://localhost:8080/",
          "height": 225
        },
        "id": "bMmrtIxJxFF7",
        "outputId": "cd1ebdd9-c32f-422c-becb-97754f2ffab3"
      },
      "execution_count": null,
      "outputs": [
        {
          "output_type": "stream",
          "name": "stdout",
          "text": [
            " * sqlite://\n",
            "Done.\n"
          ]
        },
        {
          "output_type": "execute_result",
          "data": {
            "text/html": [
              "<table>\n",
              "    <thead>\n",
              "        <tr>\n",
              "            <th>DISTRICT_NAME</th>\n",
              "            <th>SUM(M_Prod_Tot)</th>\n",
              "        </tr>\n",
              "    </thead>\n",
              "    <tbody>\n",
              "        <tr>\n",
              "            <td>ABIM</td>\n",
              "            <td>1922133.1297</td>\n",
              "        </tr>\n",
              "        <tr>\n",
              "            <td>AMUDAT</td>\n",
              "            <td>3546469.3324990002</td>\n",
              "        </tr>\n",
              "        <tr>\n",
              "            <td>KAABONG</td>\n",
              "            <td>6990361.6143000005</td>\n",
              "        </tr>\n",
              "        <tr>\n",
              "            <td>KOTIDO</td>\n",
              "            <td>2010179.0731479998</td>\n",
              "        </tr>\n",
              "        <tr>\n",
              "            <td>MOROTO</td>\n",
              "            <td>422116.06882464996</td>\n",
              "        </tr>\n",
              "        <tr>\n",
              "            <td>NAKAPIRIPIRIT</td>\n",
              "            <td>8125156.24546</td>\n",
              "        </tr>\n",
              "        <tr>\n",
              "            <td>NAPAK</td>\n",
              "            <td>5587379.38888</td>\n",
              "        </tr>\n",
              "    </tbody>\n",
              "</table>"
            ],
            "text/plain": [
              "[('ABIM', 1922133.1297),\n",
              " ('AMUDAT', 3546469.3324990002),\n",
              " ('KAABONG', 6990361.6143000005),\n",
              " ('KOTIDO', 2010179.0731479998),\n",
              " ('MOROTO', 422116.06882464996),\n",
              " ('NAKAPIRIPIRIT', 8125156.24546),\n",
              " ('NAPAK', 5587379.38888)]"
            ]
          },
          "metadata": {},
          "execution_count": 13
        }
      ]
    },
    {
      "cell_type": "code",
      "source": [
        "# QUESTION: Compute the number of Sub counties where Maize is produced and the total Maize production per District. \n",
        "  \n",
        "%%sql\n",
        "SELECT count(SUBCOUNTY_NAME) FROM Uganda_Karamoja_Subcounty_Crop_Yield_Population\n",
        "WHERE M_Prod_Tot is NOT NULL"
      ],
      "metadata": {
        "colab": {
          "base_uri": "https://localhost:8080/",
          "height": 96
        },
        "id": "Vm36nBBWxbno",
        "outputId": "dca2713b-8fea-4f14-b23e-458cc6f4b7bc"
      },
      "execution_count": null,
      "outputs": [
        {
          "output_type": "stream",
          "name": "stdout",
          "text": [
            " * sqlite://\n",
            "Done.\n"
          ]
        },
        {
          "output_type": "execute_result",
          "data": {
            "text/html": [
              "<table>\n",
              "    <thead>\n",
              "        <tr>\n",
              "            <th>count(SUBCOUNTY_NAME)</th>\n",
              "        </tr>\n",
              "    </thead>\n",
              "    <tbody>\n",
              "        <tr>\n",
              "            <td>52</td>\n",
              "        </tr>\n",
              "    </tbody>\n",
              "</table>"
            ],
            "text/plain": [
              "[(52,)]"
            ]
          },
          "metadata": {},
          "execution_count": 17
        }
      ]
    },
    {
      "cell_type": "code",
      "source": [
        ""
      ],
      "metadata": {
        "id": "2Bckjb5i0snt"
      },
      "execution_count": null,
      "outputs": []
    },
    {
      "cell_type": "code",
      "source": [
        "# Question: Compute the overall Crop area in all Sub counties where population is over 20000\n",
        "%%sql\n",
        "SELECT SUBCOUNTY_NAME, SUM(Crop_Area_Ha) from Uganda_Karamoja_Subcounty_Crop_Yield_Population\n",
        "where POP > 20000 \n",
        "GROUP BY SUBCOUNTY_NAME "
      ],
      "metadata": {
        "colab": {
          "base_uri": "https://localhost:8080/",
          "height": 759
        },
        "id": "5TUGfqtXzLoP",
        "outputId": "95480a46-6cab-46f4-cfd6-7a1214990cfc"
      },
      "execution_count": null,
      "outputs": [
        {
          "output_type": "stream",
          "name": "stdout",
          "text": [
            " * sqlite://\n",
            "Done.\n"
          ]
        },
        {
          "output_type": "execute_result",
          "data": {
            "text/html": [
              "<table>\n",
              "    <thead>\n",
              "        <tr>\n",
              "            <th>SUBCOUNTY_NAME</th>\n",
              "            <th>SUM(Crop_Area_Ha)</th>\n",
              "        </tr>\n",
              "    </thead>\n",
              "    <tbody>\n",
              "        <tr>\n",
              "            <td>AMUDAT</td>\n",
              "            <td>1651.99842</td>\n",
              "        </tr>\n",
              "        <tr>\n",
              "            <td>IRIIRI</td>\n",
              "            <td>5473.443674</td>\n",
              "        </tr>\n",
              "        <tr>\n",
              "            <td>KAABONG  EAST</td>\n",
              "            <td>1021.31699</td>\n",
              "        </tr>\n",
              "        <tr>\n",
              "            <td>KAABONG TOWN COUNCIL</td>\n",
              "            <td>175.0805266</td>\n",
              "        </tr>\n",
              "        <tr>\n",
              "            <td>KAABONG WEST</td>\n",
              "            <td>967.3367266</td>\n",
              "        </tr>\n",
              "        <tr>\n",
              "            <td>KALAPATA</td>\n",
              "            <td>2834.349905</td>\n",
              "        </tr>\n",
              "        <tr>\n",
              "            <td>KAMION</td>\n",
              "            <td>997.1610206</td>\n",
              "        </tr>\n",
              "        <tr>\n",
              "            <td>KAPEDO</td>\n",
              "            <td>2365.259806</td>\n",
              "        </tr>\n",
              "        <tr>\n",
              "            <td>KARITA</td>\n",
              "            <td>2513.27183</td>\n",
              "        </tr>\n",
              "        <tr>\n",
              "            <td>KATHILE</td>\n",
              "            <td>6890.699234</td>\n",
              "        </tr>\n",
              "        <tr>\n",
              "            <td>KAWALAKOL</td>\n",
              "            <td>3934.432233</td>\n",
              "        </tr>\n",
              "        <tr>\n",
              "            <td>KOTIDO</td>\n",
              "            <td>13587.99076</td>\n",
              "        </tr>\n",
              "        <tr>\n",
              "            <td>KOTIDO TOWN COUNCIL</td>\n",
              "            <td>1656.531855</td>\n",
              "        </tr>\n",
              "        <tr>\n",
              "            <td>LOBALANGIT</td>\n",
              "            <td>1890.248613</td>\n",
              "        </tr>\n",
              "        <tr>\n",
              "            <td>LODIKO</td>\n",
              "            <td>401.7978207</td>\n",
              "        </tr>\n",
              "        <tr>\n",
              "            <td>LOKOPO</td>\n",
              "            <td>6471.047334</td>\n",
              "        </tr>\n",
              "        <tr>\n",
              "            <td>LOLACHAT</td>\n",
              "            <td>5079.779088</td>\n",
              "        </tr>\n",
              "        <tr>\n",
              "            <td>LOLELIA</td>\n",
              "            <td>2700.676313</td>\n",
              "        </tr>\n",
              "        <tr>\n",
              "            <td>LOREGAE</td>\n",
              "            <td>5759.618906</td>\n",
              "        </tr>\n",
              "        <tr>\n",
              "            <td>LOROO</td>\n",
              "            <td>1539.401382</td>\n",
              "        </tr>\n",
              "        <tr>\n",
              "            <td>MATANY</td>\n",
              "            <td>2990.847377</td>\n",
              "        </tr>\n",
              "        <tr>\n",
              "            <td>NABILATUK</td>\n",
              "            <td>3276.653762</td>\n",
              "        </tr>\n",
              "        <tr>\n",
              "            <td>NADUNGET</td>\n",
              "            <td>2480.1219</td>\n",
              "        </tr>\n",
              "        <tr>\n",
              "            <td>NAKAPERIMORU</td>\n",
              "            <td>7087.823334</td>\n",
              "        </tr>\n",
              "        <tr>\n",
              "            <td>NAMALU</td>\n",
              "            <td>5793.507623</td>\n",
              "        </tr>\n",
              "        <tr>\n",
              "            <td>NAPORE (KARENGA)</td>\n",
              "            <td>1494.047587</td>\n",
              "        </tr>\n",
              "        <tr>\n",
              "            <td>NGOLERIET</td>\n",
              "            <td>1215.227445</td>\n",
              "        </tr>\n",
              "        <tr>\n",
              "            <td>PANYANGARA</td>\n",
              "            <td>10398.24939</td>\n",
              "        </tr>\n",
              "        <tr>\n",
              "            <td>RENGEN</td>\n",
              "            <td>13278.52043</td>\n",
              "        </tr>\n",
              "        <tr>\n",
              "            <td>RUPA</td>\n",
              "            <td>2217.290717</td>\n",
              "        </tr>\n",
              "        <tr>\n",
              "            <td>SIDOK</td>\n",
              "            <td>957.4939458</td>\n",
              "        </tr>\n",
              "        <tr>\n",
              "            <td>TAPAC</td>\n",
              "            <td>1111.664207</td>\n",
              "        </tr>\n",
              "    </tbody>\n",
              "</table>"
            ],
            "text/plain": [
              "[('AMUDAT', 1651.99842),\n",
              " ('IRIIRI', 5473.443674),\n",
              " ('KAABONG  EAST', 1021.31699),\n",
              " ('KAABONG TOWN COUNCIL', 175.0805266),\n",
              " ('KAABONG WEST', 967.3367266),\n",
              " ('KALAPATA', 2834.349905),\n",
              " ('KAMION', 997.1610206),\n",
              " ('KAPEDO', 2365.259806),\n",
              " ('KARITA', 2513.27183),\n",
              " ('KATHILE', 6890.699234),\n",
              " ('KAWALAKOL', 3934.432233),\n",
              " ('KOTIDO', 13587.99076),\n",
              " ('KOTIDO TOWN COUNCIL', 1656.531855),\n",
              " ('LOBALANGIT', 1890.248613),\n",
              " ('LODIKO', 401.7978207),\n",
              " ('LOKOPO', 6471.047334),\n",
              " ('LOLACHAT', 5079.779088),\n",
              " ('LOLELIA', 2700.676313),\n",
              " ('LOREGAE', 5759.618906),\n",
              " ('LOROO', 1539.401382),\n",
              " ('MATANY', 2990.847377),\n",
              " ('NABILATUK', 3276.653762),\n",
              " ('NADUNGET', 2480.1219),\n",
              " ('NAKAPERIMORU', 7087.823334),\n",
              " ('NAMALU', 5793.507623),\n",
              " ('NAPORE (KARENGA)', 1494.047587),\n",
              " ('NGOLERIET', 1215.227445),\n",
              " ('PANYANGARA', 10398.24939),\n",
              " ('RENGEN', 13278.52043),\n",
              " ('RUPA', 2217.290717),\n",
              " ('SIDOK', 957.4939458),\n",
              " ('TAPAC', 1111.664207)]"
            ]
          },
          "metadata": {},
          "execution_count": 20
        }
      ]
    },
    {
      "cell_type": "code",
      "source": [
        "# Question: Sort the Maize production in descending order by Districts, only taking into account Sub counties where Maize area is larger than Sorghum area, and display the number of Sub counties per district matching that criteria\n",
        "%%sql\n",
        "SELECT SUBCOUNTY_NAME M_Prod_Tot, COUNT(SUBCOUNTY_NAME) from Uganda_Karamoja_Subcounty_Crop_Yield_Population\n",
        "WHERE M_Area_Ha > S_Area_Ha\n",
        "GROUP BY DISTRICT_NAME\n",
        "ORDER BY DISTRICT_NAME DESC"
      ],
      "metadata": {
        "colab": {
          "base_uri": "https://localhost:8080/",
          "height": 182
        },
        "id": "cAFaJCDezcRP",
        "outputId": "5866e2f6-01cf-470c-d365-b9b5c6fbfbec"
      },
      "execution_count": null,
      "outputs": [
        {
          "output_type": "stream",
          "name": "stdout",
          "text": [
            " * sqlite://\n",
            "Done.\n"
          ]
        },
        {
          "output_type": "execute_result",
          "data": {
            "text/html": [
              "<table>\n",
              "    <thead>\n",
              "        <tr>\n",
              "            <th>M_Prod_Tot</th>\n",
              "            <th>COUNT(SUBCOUNTY_NAME)</th>\n",
              "        </tr>\n",
              "    </thead>\n",
              "    <tbody>\n",
              "        <tr>\n",
              "            <td>NAPAK TOWN COUNCIL</td>\n",
              "            <td>2</td>\n",
              "        </tr>\n",
              "        <tr>\n",
              "            <td>MORUITA</td>\n",
              "            <td>3</td>\n",
              "        </tr>\n",
              "        <tr>\n",
              "            <td>NORTHERN DIVISION</td>\n",
              "            <td>3</td>\n",
              "        </tr>\n",
              "        <tr>\n",
              "            <td>NAPORE (KARENGA)</td>\n",
              "            <td>3</td>\n",
              "        </tr>\n",
              "        <tr>\n",
              "            <td>AMUDAT</td>\n",
              "            <td>1</td>\n",
              "        </tr>\n",
              "    </tbody>\n",
              "</table>"
            ],
            "text/plain": [
              "[('NAPAK TOWN COUNCIL', 2),\n",
              " ('MORUITA', 3),\n",
              " ('NORTHERN DIVISION', 3),\n",
              " ('NAPORE (KARENGA)', 3),\n",
              " ('AMUDAT', 1)]"
            ]
          },
          "metadata": {},
          "execution_count": 22
        }
      ]
    }
  ]
}